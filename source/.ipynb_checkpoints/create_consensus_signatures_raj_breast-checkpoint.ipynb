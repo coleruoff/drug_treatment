{
 "cells": [
  {
   "cell_type": "code",
   "execution_count": 2,
   "id": "034fd04e",
   "metadata": {},
   "outputs": [],
   "source": [
    "\n",
    "raj_vs_control_de_signature <- readRDS(\"/data/CDSL_hannenhalli/Cole/projects/drug_treatment/data/genesets/raj_breast_clusters_vs_control_de_genesets_500.rds\")\n",
    "\n",
    "raj_de_results <- readRDS(\"/data/CDSL_hannenhalli/Cole/projects/drug_treatment/data/de_results/raj_breast_cluster_de.rds\")\n"
   ]
  }
 ],
 "metadata": {
  "kernelspec": {
   "display_name": "R/4.3",
   "language": "R",
   "name": "ir43"
  },
  "language_info": {
   "codemirror_mode": "r",
   "file_extension": ".r",
   "mimetype": "text/x-r-source",
   "name": "R",
   "pygments_lexer": "r",
   "version": "4.3.0"
  }
 },
 "nbformat": 4,
 "nbformat_minor": 5
}
