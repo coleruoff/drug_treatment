{
 "cells": [
  {
   "cell_type": "code",
   "execution_count": 3,
   "id": "8df364ee",
   "metadata": {},
   "outputs": [
    {
     "name": "stdout",
     "output_type": "stream",
     "text": [
      "Defaulting to user installation because normal site-packages is not writeable\n",
      "Collecting git+https://github.com/yoseflab/Hotspot.git\n",
      "  Cloning https://github.com/yoseflab/Hotspot.git to /tmp/pip-req-build-_5wkzu57\n",
      "  Running command git clone --filter=blob:none --quiet https://github.com/yoseflab/Hotspot.git /tmp/pip-req-build-_5wkzu57\n",
      "  Resolved https://github.com/yoseflab/Hotspot.git to commit 42ce35c5be336aba19c8fdc97294feb99f6db8b9\n",
      "  Installing build dependencies ... \u001b[?25ldone\n",
      "\u001b[?25h  Getting requirements to build wheel ... \u001b[?25ldone\n",
      "\u001b[?25h  Preparing metadata (pyproject.toml) ... \u001b[?25ldone\n",
      "\u001b[?25hRequirement already satisfied: anndata>=0.7 in /spin1/home/linux/ruoffcj/.local/lib/python3.9/site-packages (from hotspotsc==1.1.1) (0.8.0)\n",
      "Requirement already satisfied: matplotlib>=3.0.0 in /usr/local/Anaconda/envs/py3.10/lib/python3.10/site-packages (from hotspotsc==1.1.1) (3.7.2)\n",
      "Requirement already satisfied: numba>=0.43.1 in /spin1/home/linux/ruoffcj/.local/lib/python3.9/site-packages (from hotspotsc==1.1.1) (0.56.4)\n",
      "Requirement already satisfied: numpy>=1.16.4 in /spin1/home/linux/ruoffcj/.local/lib/python3.10/site-packages (from hotspotsc==1.1.1) (1.23.5)\n",
      "Requirement already satisfied: pandas>=0.24.0 in /usr/local/Anaconda/envs/py3.10/lib/python3.10/site-packages (from hotspotsc==1.1.1) (2.0.3)\n",
      "Requirement already satisfied: pynndescent>=0.5 in /spin1/home/linux/ruoffcj/.local/lib/python3.9/site-packages (from hotspotsc==1.1.1) (0.5.8)\n",
      "Requirement already satisfied: scikit-learn>=0.21.2 in /spin1/home/linux/ruoffcj/.local/lib/python3.9/site-packages (from hotspotsc==1.1.1) (1.2.0)\n",
      "Requirement already satisfied: scipy>=1.2.1 in /spin1/home/linux/ruoffcj/.local/lib/python3.10/site-packages (from hotspotsc==1.1.1) (1.11.3)\n",
      "Requirement already satisfied: seaborn>=0.9.0 in /spin1/home/linux/ruoffcj/.local/lib/python3.9/site-packages (from hotspotsc==1.1.1) (0.12.2)\n",
      "Requirement already satisfied: statsmodels>=0.9.0 in /spin1/home/linux/ruoffcj/.local/lib/python3.9/site-packages (from hotspotsc==1.1.1) (0.13.5)\n",
      "Requirement already satisfied: tqdm>=4.32.2 in /usr/local/Anaconda/envs/py3.10/lib/python3.10/site-packages (from hotspotsc==1.1.1) (4.65.0)\n",
      "Requirement already satisfied: h5py>=3 in /spin1/home/linux/ruoffcj/.local/lib/python3.9/site-packages (from anndata>=0.7->hotspotsc==1.1.1) (3.7.0)\n",
      "Requirement already satisfied: natsort in /spin1/home/linux/ruoffcj/.local/lib/python3.9/site-packages (from anndata>=0.7->hotspotsc==1.1.1) (8.2.0)\n",
      "Requirement already satisfied: packaging>=20 in /usr/local/Anaconda/envs/py3.10/lib/python3.10/site-packages (from anndata>=0.7->hotspotsc==1.1.1) (23.1)\n",
      "Requirement already satisfied: contourpy>=1.0.1 in /usr/local/Anaconda/envs/py3.10/lib/python3.10/site-packages (from matplotlib>=3.0.0->hotspotsc==1.1.1) (1.1.0)\n",
      "Requirement already satisfied: cycler>=0.10 in /usr/local/Anaconda/envs/py3.10/lib/python3.10/site-packages (from matplotlib>=3.0.0->hotspotsc==1.1.1) (0.11.0)\n",
      "Requirement already satisfied: fonttools>=4.22.0 in /usr/local/Anaconda/envs/py3.10/lib/python3.10/site-packages (from matplotlib>=3.0.0->hotspotsc==1.1.1) (4.40.0)\n",
      "Requirement already satisfied: kiwisolver>=1.0.1 in /usr/local/Anaconda/envs/py3.10/lib/python3.10/site-packages (from matplotlib>=3.0.0->hotspotsc==1.1.1) (1.4.4)\n",
      "Requirement already satisfied: pillow>=6.2.0 in /usr/local/Anaconda/envs/py3.10/lib/python3.10/site-packages (from matplotlib>=3.0.0->hotspotsc==1.1.1) (9.2.0)\n",
      "Requirement already satisfied: pyparsing<3.1,>=2.3.1 in /usr/local/Anaconda/envs/py3.10/lib/python3.10/site-packages (from matplotlib>=3.0.0->hotspotsc==1.1.1) (3.0.9)\n",
      "Requirement already satisfied: python-dateutil>=2.7 in /usr/local/Anaconda/envs/py3.10/lib/python3.10/site-packages (from matplotlib>=3.0.0->hotspotsc==1.1.1) (2.8.2)\n",
      "Requirement already satisfied: llvmlite<0.40,>=0.39.0dev0 in /spin1/home/linux/ruoffcj/.local/lib/python3.9/site-packages (from numba>=0.43.1->hotspotsc==1.1.1) (0.39.1)\n",
      "Requirement already satisfied: setuptools in /usr/local/Anaconda/envs/py3.10/lib/python3.10/site-packages (from numba>=0.43.1->hotspotsc==1.1.1) (68.0.0)\n",
      "Requirement already satisfied: pytz>=2020.1 in /usr/local/Anaconda/envs/py3.10/lib/python3.10/site-packages (from pandas>=0.24.0->hotspotsc==1.1.1) (2023.3)\n",
      "Requirement already satisfied: tzdata>=2022.1 in /usr/local/Anaconda/envs/py3.10/lib/python3.10/site-packages (from pandas>=0.24.0->hotspotsc==1.1.1) (2023.3)\n",
      "Requirement already satisfied: joblib>=0.11 in /spin1/home/linux/ruoffcj/.local/lib/python3.9/site-packages (from pynndescent>=0.5->hotspotsc==1.1.1) (1.2.0)\n",
      "Requirement already satisfied: threadpoolctl>=2.0.0 in /spin1/home/linux/ruoffcj/.local/lib/python3.9/site-packages (from scikit-learn>=0.21.2->hotspotsc==1.1.1) (3.1.0)\n",
      "Requirement already satisfied: patsy>=0.5.2 in /spin1/home/linux/ruoffcj/.local/lib/python3.9/site-packages (from statsmodels>=0.9.0->hotspotsc==1.1.1) (0.5.3)\n",
      "Requirement already satisfied: six in /usr/local/Anaconda/envs/py3.10/lib/python3.10/site-packages (from patsy>=0.5.2->statsmodels>=0.9.0->hotspotsc==1.1.1) (1.16.0)\n",
      "Building wheels for collected packages: hotspotsc\n",
      "  Building wheel for hotspotsc (pyproject.toml) ... \u001b[?25ldone\n",
      "\u001b[?25h  Created wheel for hotspotsc: filename=hotspotsc-1.1.1-py3-none-any.whl size=27729 sha256=636d72086e740d0ffd7088a8cef8b86fb524995338625d15abcebcc9ab3ecb9d\n",
      "  Stored in directory: /tmp/pip-ephem-wheel-cache-fq0d5z5k/wheels/1f/0d/b3/6778f36059d7dc79fce69eee377c690b1cfc712b956bd9eef6\n",
      "Successfully built hotspotsc\n",
      "Installing collected packages: hotspotsc\n",
      "Successfully installed hotspotsc-1.1.1\n",
      "Note: you may need to restart the kernel to use updated packages.\n"
     ]
    }
   ],
   "source": [
    "pip install git+https://github.com/yoseflab/Hotspot.git"
   ]
  },
  {
   "cell_type": "code",
   "execution_count": 4,
   "id": "2ec19bdc",
   "metadata": {
    "scrolled": true
   },
   "outputs": [
    {
     "ename": "ImportError",
     "evalue": "cannot import name '_errors' from partially initialized module 'h5py' (most likely due to a circular import) (/home/ruoffcj/.local/lib/python3.9/site-packages/h5py/__init__.py)",
     "output_type": "error",
     "traceback": [
      "\u001b[0;31m---------------------------------------------------------------------------\u001b[0m",
      "\u001b[0;31mImportError\u001b[0m                               Traceback (most recent call last)",
      "Cell \u001b[0;32mIn[4], line 3\u001b[0m\n\u001b[1;32m      1\u001b[0m \u001b[38;5;28;01mimport\u001b[39;00m \u001b[38;5;21;01mwarnings\u001b[39;00m; warnings\u001b[38;5;241m.\u001b[39msimplefilter(\u001b[38;5;124m'\u001b[39m\u001b[38;5;124mignore\u001b[39m\u001b[38;5;124m'\u001b[39m)\n\u001b[0;32m----> 3\u001b[0m \u001b[38;5;28;01mimport\u001b[39;00m \u001b[38;5;21;01mhotspot\u001b[39;00m\n\u001b[1;32m      4\u001b[0m \u001b[38;5;28;01mimport\u001b[39;00m \u001b[38;5;21;01mh5py\u001b[39;00m\n\u001b[1;32m      5\u001b[0m \u001b[38;5;28;01mimport\u001b[39;00m \u001b[38;5;21;01mnumpy\u001b[39;00m \u001b[38;5;28;01mas\u001b[39;00m \u001b[38;5;21;01mnp\u001b[39;00m\n",
      "File \u001b[0;32m~/.local/lib/python3.9/site-packages/hotspot/__init__.py:3\u001b[0m\n\u001b[1;32m      1\u001b[0m name \u001b[38;5;241m=\u001b[39m \u001b[38;5;124m\"\u001b[39m\u001b[38;5;124mhotspot\u001b[39m\u001b[38;5;124m\"\u001b[39m\n\u001b[0;32m----> 3\u001b[0m \u001b[38;5;28;01mfrom\u001b[39;00m \u001b[38;5;21;01m.\u001b[39;00m\u001b[38;5;21;01mhotspot\u001b[39;00m \u001b[38;5;28;01mimport\u001b[39;00m Hotspot\n\u001b[1;32m      5\u001b[0m \u001b[38;5;66;03m# https://github.com/python-poetry/poetry/pull/2366#issuecomment-652418094\u001b[39;00m\n\u001b[1;32m      6\u001b[0m \u001b[38;5;66;03m# https://github.com/python-poetry/poetry/issues/144#issuecomment-623927302\u001b[39;00m\n\u001b[1;32m      7\u001b[0m \u001b[38;5;28;01mtry\u001b[39;00m:\n",
      "File \u001b[0;32m~/.local/lib/python3.9/site-packages/hotspot/hotspot.py:1\u001b[0m\n\u001b[0;32m----> 1\u001b[0m \u001b[38;5;28;01mimport\u001b[39;00m \u001b[38;5;21;01manndata\u001b[39;00m\n\u001b[1;32m      2\u001b[0m \u001b[38;5;28;01mimport\u001b[39;00m \u001b[38;5;21;01mnumpy\u001b[39;00m \u001b[38;5;28;01mas\u001b[39;00m \u001b[38;5;21;01mnp\u001b[39;00m\n\u001b[1;32m      3\u001b[0m \u001b[38;5;28;01mimport\u001b[39;00m \u001b[38;5;21;01mpandas\u001b[39;00m \u001b[38;5;28;01mas\u001b[39;00m \u001b[38;5;21;01mpd\u001b[39;00m\n",
      "File \u001b[0;32m~/.local/lib/python3.9/site-packages/anndata/__init__.py:7\u001b[0m\n\u001b[1;32m      5\u001b[0m \u001b[38;5;28;01mif\u001b[39;00m \u001b[38;5;129;01mnot\u001b[39;00m within_flit():\n\u001b[1;32m      6\u001b[0m     \u001b[38;5;28;01mdel\u001b[39;00m within_flit\n\u001b[0;32m----> 7\u001b[0m     \u001b[38;5;28;01mfrom\u001b[39;00m \u001b[38;5;21;01m.\u001b[39;00m\u001b[38;5;21;01m_core\u001b[39;00m\u001b[38;5;21;01m.\u001b[39;00m\u001b[38;5;21;01manndata\u001b[39;00m \u001b[38;5;28;01mimport\u001b[39;00m AnnData\n\u001b[1;32m      8\u001b[0m     \u001b[38;5;28;01mfrom\u001b[39;00m \u001b[38;5;21;01m.\u001b[39;00m\u001b[38;5;21;01m_core\u001b[39;00m\u001b[38;5;21;01m.\u001b[39;00m\u001b[38;5;21;01mmerge\u001b[39;00m \u001b[38;5;28;01mimport\u001b[39;00m concat\n\u001b[1;32m      9\u001b[0m     \u001b[38;5;28;01mfrom\u001b[39;00m \u001b[38;5;21;01m.\u001b[39;00m\u001b[38;5;21;01m_core\u001b[39;00m\u001b[38;5;21;01m.\u001b[39;00m\u001b[38;5;21;01mraw\u001b[39;00m \u001b[38;5;28;01mimport\u001b[39;00m Raw\n",
      "File \u001b[0;32m~/.local/lib/python3.9/site-packages/anndata/_core/anndata.py:17\u001b[0m\n\u001b[1;32m     14\u001b[0m \u001b[38;5;28;01mfrom\u001b[39;00m \u001b[38;5;21;01mtyping\u001b[39;00m \u001b[38;5;28;01mimport\u001b[39;00m Iterable, Sequence, Mapping, MutableMapping  \u001b[38;5;66;03m# Generic ABCs\u001b[39;00m\n\u001b[1;32m     15\u001b[0m \u001b[38;5;28;01mfrom\u001b[39;00m \u001b[38;5;21;01mtyping\u001b[39;00m \u001b[38;5;28;01mimport\u001b[39;00m Tuple, List  \u001b[38;5;66;03m# Generic\u001b[39;00m\n\u001b[0;32m---> 17\u001b[0m \u001b[38;5;28;01mimport\u001b[39;00m \u001b[38;5;21;01mh5py\u001b[39;00m\n\u001b[1;32m     18\u001b[0m \u001b[38;5;28;01mfrom\u001b[39;00m \u001b[38;5;21;01mnatsort\u001b[39;00m \u001b[38;5;28;01mimport\u001b[39;00m natsorted\n\u001b[1;32m     19\u001b[0m \u001b[38;5;28;01mimport\u001b[39;00m \u001b[38;5;21;01mnumpy\u001b[39;00m \u001b[38;5;28;01mas\u001b[39;00m \u001b[38;5;21;01mnp\u001b[39;00m\n",
      "File \u001b[0;32m~/.local/lib/python3.9/site-packages/h5py/__init__.py:25\u001b[0m\n\u001b[1;32m     19\u001b[0m \u001b[38;5;66;03m# --- Library setup -----------------------------------------------------------\u001b[39;00m\n\u001b[1;32m     20\u001b[0m \n\u001b[1;32m     21\u001b[0m \u001b[38;5;66;03m# When importing from the root of the unpacked tarball or git checkout,\u001b[39;00m\n\u001b[1;32m     22\u001b[0m \u001b[38;5;66;03m# Python sees the \"h5py\" source directory and tries to load it, which fails.\u001b[39;00m\n\u001b[1;32m     23\u001b[0m \u001b[38;5;66;03m# We tried working around this by using \"package_dir\" but that breaks Cython.\u001b[39;00m\n\u001b[1;32m     24\u001b[0m \u001b[38;5;28;01mtry\u001b[39;00m:\n\u001b[0;32m---> 25\u001b[0m     \u001b[38;5;28;01mfrom\u001b[39;00m \u001b[38;5;21;01m.\u001b[39;00m \u001b[38;5;28;01mimport\u001b[39;00m _errors\n\u001b[1;32m     26\u001b[0m \u001b[38;5;28;01mexcept\u001b[39;00m \u001b[38;5;167;01mImportError\u001b[39;00m:\n\u001b[1;32m     27\u001b[0m     \u001b[38;5;28;01mimport\u001b[39;00m \u001b[38;5;21;01mos\u001b[39;00m\u001b[38;5;21;01m.\u001b[39;00m\u001b[38;5;21;01mpath\u001b[39;00m \u001b[38;5;28;01mas\u001b[39;00m \u001b[38;5;21;01m_op\u001b[39;00m\n",
      "\u001b[0;31mImportError\u001b[0m: cannot import name '_errors' from partially initialized module 'h5py' (most likely due to a circular import) (/home/ruoffcj/.local/lib/python3.9/site-packages/h5py/__init__.py)"
     ]
    }
   ],
   "source": [
    "import warnings; warnings.simplefilter('ignore')\n",
    "\n",
    "import hotspot\n",
    "import h5py\n",
    "import numpy as np\n",
    "import pandas as pd\n",
    "import matplotlib.pyplot as plt\n",
    "import seaborn as sns\n",
    "import scipy.sparse as sparse\n",
    "\n",
    "from sklearn.decomposition import PCA\n",
    "from umap import UMAP"
   ]
  }
 ],
 "metadata": {
  "kernelspec": {
   "display_name": "python/3.10",
   "language": "python",
   "name": "py3.10"
  },
  "language_info": {
   "codemirror_mode": {
    "name": "ipython",
    "version": 3
   },
   "file_extension": ".py",
   "mimetype": "text/x-python",
   "name": "python",
   "nbconvert_exporter": "python",
   "pygments_lexer": "ipython3",
   "version": "3.10.8"
  }
 },
 "nbformat": 4,
 "nbformat_minor": 5
}
